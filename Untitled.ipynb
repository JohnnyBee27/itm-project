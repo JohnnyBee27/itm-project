{
 "cells": [
  {
   "cell_type": "code",
   "execution_count": 5,
   "id": "b86e0875-09f0-449b-b986-d6b38302d644",
   "metadata": {},
   "outputs": [
    {
     "name": "stdout",
     "output_type": "stream",
     "text": [
      "12345\n"
     ]
    }
   ],
   "source": [
    "chat_id = 12345\n",
    "\n",
    "d = dict()\n",
    "\n",
    "d[chat_id] ={\n",
    "                'step': 0,\n",
    "                'user': 12345,\n",
    "                'members_count': 123,\n",
    "                'description': None,\n",
    "                'booking_time': None,\n",
    "                'emails': []\n",
    "            }\n",
    "\n",
    "print(d[chat_id]['user'])\n"
   ]
  },
  {
   "cell_type": "code",
   "execution_count": 39,
   "id": "016ae1b6-f89b-40b7-a39b-d47728a27910",
   "metadata": {},
   "outputs": [
    {
     "name": "stdout",
     "output_type": "stream",
     "text": [
      "{'08:00': 0, '08:30': 0, '09:00': 0, '09:30': 0, '10:00': 0, '10:30': 0, '11:00': 0, '11:30': 0, '12:00': 0, '12:30': 0, '13:00': 0, '13:30': 0, '14:00': 0, '14:30': 0, '15:00': 0, '15:30': 0, '16:00': 0, '16:30': 0, '17:00': 0, '17:30': 0}\n",
      "{'08:00': 0, '08:30': 0, '09:00': 0, '09:30': 3, '10:00': 0, '10:30': 0, '11:00': 0, '11:30': 0, '12:00': 0, '12:30': 0, '13:00': 0, '13:30': 0, '14:00': 0, '14:30': 0, '15:00': 0, '15:30': 0, '16:00': 0, '16:30': 0, '17:00': 0, '17:30': 0}\n",
      "[0, 0, 0, 3, 0, 0, 0, 0, 0, 0, 0, 0, 0, 0, 0, 0, 0, 0, 0, 0]\n"
     ]
    }
   ],
   "source": [
    "import datetime\n",
    "time_range = range(8,18)\n",
    "d = dict()\n",
    "for hour in time_range:\n",
    "    d.setdefault('{0:02}:00'.format(hour),0)\n",
    "    d.setdefault('{0:02}:30'.format(hour),0)\n",
    "    \n",
    "print(d)\n",
    "\n",
    "d['09:30'] = d['09:30'] + 3\n",
    "\n",
    "print(d)\n",
    "\n",
    "print(list(d.values()))"
   ]
  },
  {
   "cell_type": "code",
   "execution_count": 37,
   "id": "73fa8814-fb3b-4e16-963b-aac974bba40d",
   "metadata": {},
   "outputs": [
    {
     "name": "stdout",
     "output_type": "stream",
     "text": [
      "[0, 1, 2, 3, 4, 5, 6, 7, 8, 9]\n",
      "[0, 1, 2, 5, 4, 5, 6, 7, 8, 9]\n",
      "{0, 1, 2, 4, 5, 6, 7, 8, 9}\n",
      "[0, 1, 2, 4, 5, 6, 7, 8, 9]\n"
     ]
    }
   ],
   "source": [
    "l = list()\n",
    "\n",
    "for i in range(10):\n",
    "    l.append(i)\n",
    "    \n",
    "print(l)\n",
    "\n",
    "l[3] = 5\n",
    "\n",
    "print(l)\n",
    "\n",
    "s = set(l)\n",
    "print(s)\n",
    "\n",
    "l = list(s)\n",
    "print(l)\n"
   ]
  },
  {
   "cell_type": "code",
   "execution_count": 57,
   "id": "010b1992-a9c8-4c02-9ecc-7af45c2c70c7",
   "metadata": {},
   "outputs": [
    {
     "name": "stdout",
     "output_type": "stream",
     "text": [
      "['08:00', '08:30', '09:00', '09:30', '10:00', '10:30', '11:00', '11:30', '12:00', '12:30', '13:00', '13:30', '14:00', '14:30', '15:00', '15:30', '16:00', '16:30', '17:00', '17:30']\n",
      "[0, 0, 0, 3, 0, 0, 0, 3, 0, 0, 0, 0, 0, 0, 0, 0, 0, 0, 0, 0]\n",
      "0\n"
     ]
    }
   ],
   "source": [
    "import datetime\n",
    "\n",
    "time_range = range(8,18)\n",
    "l = list()\n",
    "for hour in time_range:\n",
    "    l.append('{0:02}:00'.format(hour))\n",
    "    l.append('{0:02}:30'.format(hour))\n",
    "    \n",
    "print(l)\n",
    "\n",
    "l2 = list(d.values())\n",
    "\n",
    "\n",
    "\n",
    "l2[7] = 3\n",
    "\n",
    "print(l2)\n",
    "\n",
    "print(l2.index(0))\n",
    "\n"
   ]
  },
  {
   "cell_type": "code",
   "execution_count": 83,
   "id": "b015e7a8-8d10-4186-bb92-e8ef810f46e5",
   "metadata": {},
   "outputs": [
    {
     "name": "stdout",
     "output_type": "stream",
     "text": [
      "[0, 0, 0, 3, 0, 3, 0, 0, 0, 0, 0, 0, 0, 0, 0, 0, 0, 0, 0, 0]\n",
      "3\n",
      "[3, 5]\n",
      "09:30\n",
      "10:30\n"
     ]
    }
   ],
   "source": [
    "import datetime\n",
    "time_range = range(8,18)\n",
    "d = dict()\n",
    "l_t = list()\n",
    "l_c = list()\n",
    "\n",
    "for hour in time_range:\n",
    "    d.setdefault('{0:02}:00'.format(hour),0)\n",
    "    d.setdefault('{0:02}:30'.format(hour),0)\n",
    "    \n",
    "for hour in time_range:\n",
    "    l_t.append('{0:02}:00'.format(hour))\n",
    "    l_t.append('{0:02}:30'.format(hour))\n",
    "    \n",
    "\n",
    "    \n",
    "\n",
    "\n",
    "d['09:30'] = d['09:30'] = 3\n",
    "\n",
    "d['10:30'] = d['10:30'] = 3\n",
    "l_c = list(d.values())\n",
    "print(l_c)\n",
    "print(max(l_c))\n",
    "\n",
    "l_i = list()\n",
    "\n",
    "for i in range(len(l_c)):\n",
    "    if l_c[i] == max(l_c):\n",
    "        l_i.append(i)\n",
    "        \n",
    "print(l_i)\n",
    "\n",
    "for i in range(len(l_i)):\n",
    "    print(l_t[l_i[i]])\n",
    "\n",
    "\n",
    "\n"
   ]
  },
  {
   "cell_type": "code",
   "execution_count": 84,
   "id": "feb035d6-952f-41dd-98a4-4f21489c0b2c",
   "metadata": {},
   "outputs": [
    {
     "name": "stdout",
     "output_type": "stream",
     "text": [
      "Hello \n",
      "World\n"
     ]
    }
   ],
   "source": []
  },
  {
   "cell_type": "code",
   "execution_count": 23,
   "id": "e7ab34c6-0ea8-4c7b-9307-e5de91f161ec",
   "metadata": {},
   "outputs": [
    {
     "name": "stdout",
     "output_type": "stream",
     "text": [
      "{'08:00': 0, '08:30': 0, '09:00': 0, '09:30': 0, '10:00': 0, '10:30': 0, '11:00': 0, '11:30': 0, '12:00': 0, '12:30': 0, '13:00': 0, '13:30': 0, '14:00': 0, '14:30': 0, '15:00': 0, '15:30': 0, '16:00': 0, '16:30': 0, '17:00': 0, '17:30': 0}\n",
      "['09:00', '09:30', '10:00', '10:30', '11:00', '11:30', '12:00', '12:30', '13:00', '13:30', '14:00', '14:30', '15:00', '15:30', '16:00', '16:30', '17:00', '17:30']\n",
      "{'08:00': 0, '08:30': 0, '09:00': 1, '09:30': 1, '10:00': 1, '10:30': 1, '11:00': 1, '11:30': 1, '12:00': 1, '12:30': 1, '13:00': 1, '13:30': 1, '14:00': 1, '14:30': 1, '15:00': 1, '15:30': 1, '16:00': 1, '16:30': 1, '17:00': 1, '17:30': 1}\n",
      "123\n",
      "['123']\n",
      "1\n"
     ]
    },
    {
     "data": {
      "text/plain": [
       "20"
      ]
     },
     "execution_count": 23,
     "metadata": {},
     "output_type": "execute_result"
    }
   ],
   "source": [
    "import datetime\n",
    "time_range = range(8,18)\n",
    "d = dict()\n",
    "l_t = list()\n",
    "l_c = list()\n",
    "\n",
    "for hour in time_range:\n",
    "    d.setdefault('{0:02}:00'.format(hour),0)\n",
    "    d.setdefault('{0:02}:30'.format(hour),0)\n",
    "    \n",
    "for hour in time_range:\n",
    "    l_t.append('{0:02}:00'.format(hour))\n",
    "    l_t.append('{0:02}:30'.format(hour))\n",
    "    \n",
    "print(d)\n",
    "del l_t[:2]\n",
    "print(l_t)\n",
    "\n",
    "for i in l_t :\n",
    "    d[i] = d[i] + 1\n",
    "    \n",
    "print(d)\n",
    "\n",
    "a= '123'\n",
    "\n",
    "print(a)\n",
    "\n",
    "print(a.split(', '))\n",
    "print(len(a.split(', ')))\n",
    "\n",
    "len(d)"
   ]
  },
  {
   "cell_type": "code",
   "execution_count": 9,
   "id": "4a0168be-1548-4a3c-85d8-468fafc19831",
   "metadata": {},
   "outputs": [
    {
     "data": {
      "text/plain": [
       "['I', 'love', 'you']"
      ]
     },
     "execution_count": 9,
     "metadata": {},
     "output_type": "execute_result"
    }
   ],
   "source": [
    "t = \"I love you\"\n",
    "\n",
    "t.split()"
   ]
  },
  {
   "cell_type": "code",
   "execution_count": 21,
   "id": "07b3fdf3-8339-4f57-807c-47594ce7224c",
   "metadata": {},
   "outputs": [
    {
     "name": "stdout",
     "output_type": "stream",
     "text": [
      "[{'text': 'confirm'}, {'text': 'restart'}]\n"
     ]
    }
   ],
   "source": [
    "keyboard={'keyboard':[\n",
    "                    [{'text':'confirm'}],[{'text':'restart'}], \n",
    "                ]}\n",
    "l = ['confirm','restart']\n",
    "\n",
    "\n",
    "key = dict()\n",
    "key['keyboard'] = []\n",
    "\n",
    "l2 = list()\n",
    "\n",
    "for i in range(len(l)):\n",
    "    l2.append({'text': l[i]})\n",
    "\n",
    "print(l2)"
   ]
  },
  {
   "cell_type": "code",
   "execution_count": null,
   "id": "5c5ba4fe-a31a-46c4-8be2-d58a792278d7",
   "metadata": {},
   "outputs": [],
   "source": []
  }
 ],
 "metadata": {
  "kernelspec": {
   "display_name": "Python 3 (ipykernel)",
   "language": "python",
   "name": "python3"
  },
  "language_info": {
   "codemirror_mode": {
    "name": "ipython",
    "version": 3
   },
   "file_extension": ".py",
   "mimetype": "text/x-python",
   "name": "python",
   "nbconvert_exporter": "python",
   "pygments_lexer": "ipython3",
   "version": "3.9.12"
  }
 },
 "nbformat": 4,
 "nbformat_minor": 5
}
